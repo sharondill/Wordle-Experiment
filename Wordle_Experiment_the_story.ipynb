{
 "cells": [
  {
   "cell_type": "markdown",
   "metadata": {},
   "source": [
    "## Wordle Experiment - The Story\n",
    "\n",
    "### by Sharon Dill\n",
    "### April 2022"
   ]
  },
  {
   "cell_type": "markdown",
   "metadata": {},
   "source": [
    "### The backstory\n",
    "Two players decided to do a 40 day wordle experiment to see if the starting word really made a difference with the final score.\n",
    "\n",
    "- **Round 1**: Each player started with one word, but it had to be the same word for ten days.  PlayerA used DATES and PlayerB's  word was STEAM. They didn't know each other's word until after the round.\n",
    "- **Round 2**: Both players randomly picked a new word each day.\n",
    "- **Round 3**: Both used ADIEU since that was once suggested to be THE best starting word.  \n",
    "- **Round 4**: Both started with STERN since they wanted lots of consanants after all the vowels in ADIEU in Round 3.\n",
    "- Note: a word that was not guessed within the six tries was given a score of 7."
   ]
  },
  {
   "cell_type": "code",
   "execution_count": 1,
   "metadata": {},
   "outputs": [],
   "source": [
    "# Set up notebook to display multiple outputs in one cell\n",
    "from IPython.core.interactiveshell import InteractiveShell\n",
    "InteractiveShell.ast_node_interactivity = \"all\"\n",
    "\n",
    "import pandas as pd\n",
    "import seaborn as sns\n",
    "import matplotlib.pyplot as plt\n",
    "pd.options.display.float_format = '{:.2f}'.format\n",
    "\n",
    "df = pd.read_csv('WordleExperiment2022.csv')"
   ]
  },
  {
   "cell_type": "markdown",
   "metadata": {},
   "source": [
    "### How did the players do?\n",
    "\n",
    "PlayerA had an average score of 4.33 and PlayerB had 4.30.\n"
   ]
  },
  {
   "cell_type": "code",
   "execution_count": 2,
   "metadata": {},
   "outputs": [
    {
     "data": {
      "text/plain": [
       "Player\n",
       "Player A   4.33\n",
       "Player B   4.30\n",
       "Name: Score, dtype: float64"
      ]
     },
     "execution_count": 2,
     "metadata": {},
     "output_type": "execute_result"
    }
   ],
   "source": [
    "df.groupby('Player')['Score'].mean()"
   ]
  },
  {
   "cell_type": "code",
   "execution_count": 3,
   "metadata": {},
   "outputs": [
    {
     "data": {
      "image/png": "[encoded data removed]",
      "text/plain": [
       "<Figure size 720x576 with 1 Axes>"
      ]
     },
     "metadata": {},
     "output_type": "display_data"
    }
   ],
   "source": [
    "# create a dataframe for counts\n",
    "counted = df.groupby(['Player','Score'])['Date'].count().reset_index()\n",
    "# setup seaborn\n",
    "sns.set_theme(style=\"whitegrid\")\n",
    "sns.set_palette(\"hls\", 2)\n",
    "# setup plot\n",
    "plt.figure(figsize=(10,8))\n",
    "_ = sns.barplot(data = counted, x = 'Date', y = 'Score', hue = 'Player', orient = 'h');\n",
    "plt.bar_label(_.containers[0], label_type = 'center', color = 'w');\n",
    "plt.bar_label(_.containers[1], label_type = 'center');\n",
    "plt.xlabel('Number of Occurrences', size = 12);\n",
    "plt.ylabel('Score', size = 12);\n",
    "plt.title('Wordle Experiment 2022', size = 15); \n",
    "plt.show();"
   ]
  },
  {
   "cell_type": "markdown",
   "metadata": {},
   "source": [
    "### How did they do by round?\n",
    "- Round 1: PlayerA started with STEAM and PlayerB started with DATES\n",
    "- Round 2: Different start word each day\n",
    " - PlayerA used: GRAND, SPORT, SHARP, TRADE, TRAIN, LEARN, SPEAK, BLEND, DATES, STRAP\n",
    " - PlayerB used: LIONS, PLATE, POINT, TIMER, BLEND, PILOT, TREND, MINOR, ROUTE, GRATE\n",
    "- Round 3: Both started with ADIEU\n",
    "- Round 4: Both started with STERN\n",
    "\n",
    "#### Drum roll....\n",
    "- Round 1: PlayerA did better\n",
    "- Round 2: Tie\n",
    "- Round 3: PlayerB did better\n",
    "- Round 4: PlayerB did better"
   ]
  },
  {
   "cell_type": "code",
   "execution_count": 4,
   "metadata": {},
   "outputs": [
    {
     "data": {
      "text/plain": [
       "Player    Round\n",
       "Player A  1       3.80\n",
       "          2       4.20\n",
       "          3       4.80\n",
       "          4       4.50\n",
       "Player B  1       4.10\n",
       "          2       4.20\n",
       "          3       4.60\n",
       "          4       4.30\n",
       "Name: Score, dtype: float64"
      ]
     },
     "execution_count": 4,
     "metadata": {},
     "output_type": "execute_result"
    }
   ],
   "source": [
    "df.groupby(['Player','Round'])['Score'].mean()"
   ]
  },
  {
   "cell_type": "markdown",
   "metadata": {},
   "source": [
    "### Let's take into account the difficulty of the word.\n",
    "\n",
    "Each word had a difficulty score calculated based on the letter points from Words With Friends.  Letters that repeat will be worth an extra point for each repeat.\n",
    "\n",
    "For example:\n",
    "- LAPSE has a difficulty of 9\n",
    "- WATCH has a difficulty of 13\n",
    "- ALLOW has a difficulty of 12 with the repeating L adding one more point"
   ]
  },
  {
   "cell_type": "markdown",
   "metadata": {},
   "source": [
    "### Points based on Word With Friends letter values\n",
    "\n",
    "| Points | Letters |\n",
    "| -- |:-------------: | \n",
    "| 1 Point | For each repeating letter |\n",
    "| 1 Point | A,E,I,O,R,S,T |\n",
    "| 2 Points | D,L,N,U |\n",
    "| 3 Points | G,H,Y |\n",
    "| 4 Points | B,C,F,M,P,W |\n",
    "| 5 Points | K,V |\n",
    "| 8 Points | X |\n",
    "| 10 Points | J,Q,Z |"
   ]
  },
  {
   "cell_type": "markdown",
   "metadata": {},
   "source": [
    "### Was each round equally difficult?\n",
    "\n",
    "The rounds were not equally difficult.  Round 1 was significantly easier than rounds 2 and 4."
   ]
  },
  {
   "cell_type": "code",
   "execution_count": 5,
   "metadata": {},
   "outputs": [
    {
     "data": {
      "text/plain": [
       "Round\n",
       "1    9.60\n",
       "2   11.30\n",
       "3   10.90\n",
       "4   12.40\n",
       "Name: difficulty, dtype: float64"
      ]
     },
     "execution_count": 5,
     "metadata": {},
     "output_type": "execute_result"
    }
   ],
   "source": [
    "df.groupby('Round')['difficulty'].mean()"
   ]
  },
  {
   "cell_type": "markdown",
   "metadata": {},
   "source": [
    "### Let's create some difficulty categories\n",
    "- **1 Easy** is under 8 points (example: tease, saute)\n",
    "- **2 Medium** is 8-10 points (example: today, slosh)\n",
    "- **3 Hard** is 11-13 points (example: focus, movie)\n",
    "- **4 Very Hard** is over 13 points (example: epoxy, nymph)\n",
    "\n",
    "#### Results by category:\n",
    "- It is not clear if the categories are appropriately named, but if they are - the Hard category gave both players the most trouble.  \n"
   ]
  },
  {
   "cell_type": "code",
   "execution_count": 6,
   "metadata": {},
   "outputs": [
    {
     "data": {
      "text/plain": [
       "Player    Type       \n",
       "Player A  1 Easy        4.00\n",
       "          2 Medium      4.13\n",
       "          3 Hard        4.69\n",
       "          4 Very Hard   4.25\n",
       "Player B  1 Easy        3.00\n",
       "          2 Medium      4.40\n",
       "          3 Hard        4.77\n",
       "          4 Very Hard   4.00\n",
       "Name: Score, dtype: float64"
      ]
     },
     "execution_count": 6,
     "metadata": {},
     "output_type": "execute_result"
    }
   ],
   "source": [
    "df.groupby(['Player','Type'])['Score'].mean()"
   ]
  },
  {
   "attachments": {
    "image.png": {
     "image/png": "[encoded data removed]"
    }
   },
   "cell_type": "markdown",
   "metadata": {},
   "source": [
    "### Does the starting word matter?\n",
    "\n",
    "Wordle has a list of 2308 words that are considered reasonable five letter words (there are an additional 10k five letter words, but these are more obscure like FEMES, DORBS and FINIS). To determine the number of possible guesses available from the first guess, the following steps were taken:\n",
    "- take all letters in the correct position (aka green letters) and create a word list\n",
    "- from the list, keep the words that contain correct letters in the wrong position (aka yellow letters)\n",
    "- from the list, omit any words that contain incorrect letters (aka gray letters)\n",
    "\n",
    "For example:\n",
    "- Guess word of STRAP for the word SHALL has S as a green letter, A as a yellow letter, T, R, P as gray letters and resulted in 71 possible words after the first guess. Score on this one was one 4.\n",
    "- Guess word of STEAM for the word SMELT has S, E as green letters, T, M as yellow letters, A as a gray letters and resulted in only 1 possible word after the first guess! Score on this one was a 2.\n",
    "![image.png](attachment:image.png)"
   ]
  },
  {
   "cell_type": "markdown",
   "metadata": {},
   "source": [
    "### Starting word versus Actual word\n",
    "\n",
    "The lower the number of possible guesses means there were fewer words to choose from after the first guess. In theory, the fewer words left should give the player a good start and lead to a better score.\n",
    "\n",
    "- Round 1: PlayerB did slightly better with the starting word of DATES with on average 65 words left to choose from.\n",
    "- Round 2: PlayerA did much better with the different starting words with 77 words left to choose from versus 118 for PlayerB.\n",
    "- Round 3 and 4: Since both had the same starting word, the number of available words was the same for both.\n"
   ]
  },
  {
   "cell_type": "code",
   "execution_count": 7,
   "metadata": {},
   "outputs": [
    {
     "data": {
      "text/plain": [
       "Player    Round\n",
       "Player A  1        67.10\n",
       "          2        77.30\n",
       "          3       280.60\n",
       "          4       142.10\n",
       "Player B  1        65.30\n",
       "          2       117.80\n",
       "          3       280.60\n",
       "          4       142.10\n",
       "Name: wordsRemain, dtype: float64"
      ]
     },
     "execution_count": 7,
     "metadata": {},
     "output_type": "execute_result"
    }
   ],
   "source": [
    "df.groupby(['Player','Round'])['wordsRemain'].mean()"
   ]
  },
  {
   "cell_type": "markdown",
   "metadata": {},
   "source": [
    "### Did the starting word make a difference?  Or said another way - did having fewer words to choose from after the first round matter?\n",
    "\n",
    "- Round 1: PlayerB had a better start but not a better score\n",
    "- Round 2: PlayerA had a better start, but they tied in the average score of the round\n",
    "- Round 3: Equal start, PlayerB had a better average score\n",
    "- Round 4: Equal start, but PlayerB had a better score.\n",
    "- Conclusion: The players think the second guess is just as important as the first guess. Too bad we didn't track the second guess. Poor experimental design for sure.\n",
    "\n",
    "Round 3 was the worst score for both players AND the most number of remaining words, so the moral of the story is **do not start with ADIEU.**"
   ]
  },
  {
   "cell_type": "code",
   "execution_count": 8,
   "metadata": {},
   "outputs": [
    {
     "data": {
      "text/plain": [
       "Player    Round\n",
       "Player A  1       3.80\n",
       "          2       4.20\n",
       "          3       4.80\n",
       "          4       4.50\n",
       "Player B  1       4.10\n",
       "          2       4.20\n",
       "          3       4.60\n",
       "          4       4.30\n",
       "Name: Score, dtype: float64"
      ]
     },
     "execution_count": 8,
     "metadata": {},
     "output_type": "execute_result"
    }
   ],
   "source": [
    "df.groupby(['Player','Round'])['Score'].mean()"
   ]
  },
  {
   "cell_type": "markdown",
   "metadata": {},
   "source": [
    "### Correlation is not causation.....\n",
    "\n",
    "The .36 positive correlation between the Score and the number of words remaining suggest that **the starting word does make a difference**. (Even though this is not a high correlation, it is significant)."
   ]
  },
  {
   "cell_type": "code",
   "execution_count": 9,
   "metadata": {},
   "outputs": [
    {
     "data": {
      "image/png": "[encoded data removed]",
      "text/plain": [
       "<Figure size 360x288 with 2 Axes>"
      ]
     },
     "metadata": {},
     "output_type": "display_data"
    }
   ],
   "source": [
    "# is there a correlation with Score?\n",
    "import numpy as np\n",
    "columns = ['Score','difficulty','wordsRemain']\n",
    "df_corr = df[columns]\n",
    "corrmat = df_corr.corr()\n",
    "mask = np.triu(np.ones_like(corrmat, dtype=bool))\n",
    "f, ax = plt.subplots(figsize=(5, 4))\n",
    "sns.heatmap(corrmat, vmax = .8, square =  True, mask = mask, annot = True, cmap = 'icefire', linewidths = .5);"
   ]
  },
  {
   "cell_type": "markdown",
   "metadata": {},
   "source": [
    "### Below is some sample data"
   ]
  },
  {
   "cell_type": "code",
   "execution_count": 10,
   "metadata": {
    "scrolled": true
   },
   "outputs": [
    {
     "data": {
      "text/html": [
       "<div>\n",
       "<style scoped>\n",
       "    .dataframe tbody tr th:only-of-type {\n",
       "        vertical-align: middle;\n",
       "    }\n",
       "\n",
       "    .dataframe tbody tr th {\n",
       "        vertical-align: top;\n",
       "    }\n",
       "\n",
       "    .dataframe thead th {\n",
       "        text-align: right;\n",
       "    }\n",
       "</style>\n",
       "<table border=\"1\" class=\"dataframe\">\n",
       "  <thead>\n",
       "    <tr style=\"text-align: right;\">\n",
       "      <th></th>\n",
       "      <th>Date</th>\n",
       "      <th>Round</th>\n",
       "      <th>Attempt</th>\n",
       "      <th>Score</th>\n",
       "      <th>Player</th>\n",
       "      <th>Word</th>\n",
       "      <th>Guess</th>\n",
       "      <th>difficulty</th>\n",
       "      <th>Type</th>\n",
       "      <th>wordsRemain</th>\n",
       "    </tr>\n",
       "  </thead>\n",
       "  <tbody>\n",
       "    <tr>\n",
       "      <th>75</th>\n",
       "      <td>2022-04-17</td>\n",
       "      <td>4</td>\n",
       "      <td>6</td>\n",
       "      <td>3</td>\n",
       "      <td>Player B</td>\n",
       "      <td>ample</td>\n",
       "      <td>stern</td>\n",
       "      <td>12</td>\n",
       "      <td>3 Hard</td>\n",
       "      <td>216</td>\n",
       "    </tr>\n",
       "    <tr>\n",
       "      <th>12</th>\n",
       "      <td>2022-03-22</td>\n",
       "      <td>2</td>\n",
       "      <td>3</td>\n",
       "      <td>4</td>\n",
       "      <td>Player A</td>\n",
       "      <td>slosh</td>\n",
       "      <td>sharp</td>\n",
       "      <td>10</td>\n",
       "      <td>2 Medium</td>\n",
       "      <td>31</td>\n",
       "    </tr>\n",
       "    <tr>\n",
       "      <th>0</th>\n",
       "      <td>2022-03-10</td>\n",
       "      <td>1</td>\n",
       "      <td>1</td>\n",
       "      <td>3</td>\n",
       "      <td>Player A</td>\n",
       "      <td>lapse</td>\n",
       "      <td>steam</td>\n",
       "      <td>9</td>\n",
       "      <td>2 Medium</td>\n",
       "      <td>48</td>\n",
       "    </tr>\n",
       "    <tr>\n",
       "      <th>5</th>\n",
       "      <td>2022-03-15</td>\n",
       "      <td>1</td>\n",
       "      <td>6</td>\n",
       "      <td>4</td>\n",
       "      <td>Player A</td>\n",
       "      <td>tease</td>\n",
       "      <td>steam</td>\n",
       "      <td>7</td>\n",
       "      <td>1 Easy</td>\n",
       "      <td>25</td>\n",
       "    </tr>\n",
       "    <tr>\n",
       "      <th>54</th>\n",
       "      <td>2022-03-24</td>\n",
       "      <td>2</td>\n",
       "      <td>5</td>\n",
       "      <td>4</td>\n",
       "      <td>Player B</td>\n",
       "      <td>chest</td>\n",
       "      <td>blend</td>\n",
       "      <td>10</td>\n",
       "      <td>2 Medium</td>\n",
       "      <td>78</td>\n",
       "    </tr>\n",
       "  </tbody>\n",
       "</table>\n",
       "</div>"
      ],
      "text/plain": [
       "          Date  Round  Attempt  Score    Player   Word  Guess  difficulty  \\\n",
       "75  2022-04-17      4        6      3  Player B  ample  stern          12   \n",
       "12  2022-03-22      2        3      4  Player A  slosh  sharp          10   \n",
       "0   2022-03-10      1        1      3  Player A  lapse  steam           9   \n",
       "5   2022-03-15      1        6      4  Player A  tease  steam           7   \n",
       "54  2022-03-24      2        5      4  Player B  chest  blend          10   \n",
       "\n",
       "        Type  wordsRemain  \n",
       "75    3 Hard          216  \n",
       "12  2 Medium           31  \n",
       "0   2 Medium           48  \n",
       "5     1 Easy           25  \n",
       "54  2 Medium           78  "
      ]
     },
     "execution_count": 10,
     "metadata": {},
     "output_type": "execute_result"
    }
   ],
   "source": [
    "df.sample(5)"
   ]
  },
  {
   "cell_type": "markdown",
   "metadata": {},
   "source": [
    "### Summary\n",
    "\n",
    "ADIEU was not the best starting as this resulted in the most words still available to guess from and the worst score for both players.<br>\n",
    "The starting word does make a difference where a good first guess that resulted in fewer remaining words did result in a better score.<br>\n",
    "\n",
    "We could calculate the best starting word based on the 2308 words in the list - but what would be the fun of that for our daily wordle?\n",
    "<br>\n"
   ]
  },
  {
   "cell_type": "code",
   "execution_count": null,
   "metadata": {},
   "outputs": [],
   "source": []
  }
 ],
 "metadata": {
  "kernelspec": {
   "display_name": "Python 3",
   "language": "python",
   "name": "python3"
  },
  "language_info": {
   "codemirror_mode": {
    "name": "ipython",
    "version": 3
   },
   "file_extension": ".py",
   "mimetype": "text/x-python",
   "name": "python",
   "nbconvert_exporter": "python",
   "pygments_lexer": "ipython3",
   "version": "3.8.3"
  }
 },
 "nbformat": 4,
 "nbformat_minor": 4
}
